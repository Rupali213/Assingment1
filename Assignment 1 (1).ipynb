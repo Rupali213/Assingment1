{
 "cells": [
  {
   "cell_type": "markdown",
   "id": "974880fc-10a2-4a41-81d5-b520cff838ab",
   "metadata": {},
   "source": [
    "1 key features of python that make it popular"
   ]
  },
  {
   "cell_type": "code",
   "execution_count": null,
   "id": "dcd06a42-e117-4d60-b7dd-a1f2b8d0c387",
   "metadata": {},
   "outputs": [],
   "source": [
    "# It is very easy to understand\n",
    "#due to its extensive library\n",
    "#similar to english language \n",
    "#predefine keywords\n",
    "#open source and free\n",
    "#high level language"
   ]
  },
  {
   "cell_type": "markdown",
   "id": "ee92a683-8ccf-4807-99ce-2d62a445cb0d",
   "metadata": {},
   "source": [
    "Role of predefine keywords"
   ]
  },
  {
   "cell_type": "code",
   "execution_count": 1,
   "id": "c743ed17-d66f-4888-8781-b0c7e57d8974",
   "metadata": {},
   "outputs": [
    {
     "data": {
      "text/plain": [
       "6"
      ]
     },
     "execution_count": 1,
     "metadata": {},
     "output_type": "execute_result"
    }
   ],
   "source": [
    "# predefine keywords are reserved keywords that are coded to give some certain results and saves our time to write multiple lines of code.\n",
    "#example\n",
    "a=\"rupali\"\n",
    "len(a)"
   ]
  },
  {
   "cell_type": "markdown",
   "id": "c3d6a412-6b60-448f-96ce-5c9829519e81",
   "metadata": {},
   "source": [
    "compare mutable and immutable objects in python\n"
   ]
  },
  {
   "cell_type": "code",
   "execution_count": 6,
   "id": "6fcf0226-3119-4b5b-aeaf-454085de02d9",
   "metadata": {},
   "outputs": [
    {
     "ename": "TypeError",
     "evalue": "'tuple' object does not support item assignment",
     "output_type": "error",
     "traceback": [
      "\u001b[1;31m---------------------------------------------------------------------------\u001b[0m",
      "\u001b[1;31mTypeError\u001b[0m                                 Traceback (most recent call last)",
      "Cell \u001b[1;32mIn[6], line 9\u001b[0m\n\u001b[0;32m      6\u001b[0m \u001b[38;5;28mlist\u001b[39m\n\u001b[0;32m      8\u001b[0m tup\u001b[38;5;241m=\u001b[39m(\u001b[38;5;124m\"\u001b[39m\u001b[38;5;124magra\u001b[39m\u001b[38;5;124m\"\u001b[39m,\u001b[38;5;124m\"\u001b[39m\u001b[38;5;124mdelhi\u001b[39m\u001b[38;5;124m\"\u001b[39m,\u001b[38;5;124m\"\u001b[39m\u001b[38;5;124mranchi\u001b[39m\u001b[38;5;124m\"\u001b[39m)\n\u001b[1;32m----> 9\u001b[0m \u001b[43mtup\u001b[49m\u001b[43m[\u001b[49m\u001b[38;5;241;43m0\u001b[39;49m\u001b[43m]\u001b[49m\u001b[38;5;241m=\u001b[39m\u001b[38;5;124m\"\u001b[39m\u001b[38;5;124mpune\u001b[39m\u001b[38;5;124m\"\u001b[39m\n\u001b[0;32m     10\u001b[0m tup\n",
      "\u001b[1;31mTypeError\u001b[0m: 'tuple' object does not support item assignment"
     ]
    }
   ],
   "source": [
    "#mutable objects allow us to modify inside it while immutable objects doesn't allow to modify value inside it.\n",
    "#list,set ,ditionary are mutable objects in python\n",
    "#example\n",
    "list=[\"apple\",\"mango\",\"banana\"]\n",
    "list[0]=\"guava\"\n",
    "list\n",
    "\n",
    "tup=(\"agra\",\"delhi\",\"ranchi\")\n",
    "tup[0]=\"pune\"\n",
    "tup"
   ]
  },
  {
   "cell_type": "markdown",
   "id": "f3f1eb13-dfea-445d-ac90-8cc18e1325d4",
   "metadata": {},
   "source": [
    "different types of operators in python"
   ]
  },
  {
   "cell_type": "code",
   "execution_count": null,
   "id": "110c4c36-fae0-411a-b33c-f119fe3ebf49",
   "metadata": {},
   "outputs": [],
   "source": [
    "#operators=assingnment operators, comparision operators,bitwise,arithmetic operators,logical operator,identity operator,membership operator.\n",
    "#assignment operators are used to assign value to variables.\n",
    "\n",
    "#assignment operator\n",
    "a=3\n",
    "a+=5\n",
    "a\n",
    "#here a=8\n",
    "\n",
    "#comparision operator\n",
    "a=7\n",
    "b=9\n",
    "a<=b\n",
    "#result=true\n",
    "\n",
    "#logical operator\n",
    "a=19\n",
    "b=13\n",
    "c=8\n",
    "a>b and b<c\n",
    "#result=false\n",
    "\n",
    "#bitwise operator\n",
    "a=10\n",
    "b=5\n",
    "a&b\n",
    "#result=0\n",
    "\n",
    "#arithmetic operator\n",
    "a=3\n",
    "b=8\n",
    "a+b\n",
    "#result=11\n",
    "\n",
    "#identity operator\n",
    "a=\"sudoku\"\n",
    "b=\"guitar\"\n",
    "a is b\n",
    "#result=false\n",
    "\n",
    "#membership operator\n",
    "a=\"red is blue\"\n",
    "b=\"red is white\"\n",
    "\"red\" in a\n",
    "#result=true\n"
   ]
  },
  {
   "cell_type": "markdown",
   "id": "3fdb34d0-3238-4a7f-a7b5-03ad0de6be1b",
   "metadata": {},
   "source": [
    " concept of type casting"
   ]
  },
  {
   "cell_type": "code",
   "execution_count": 14,
   "id": "1fc3c9eb-42ac-487c-90b4-18f4f6f33394",
   "metadata": {},
   "outputs": [
    {
     "data": {
      "text/plain": [
       "str"
      ]
     },
     "execution_count": 14,
     "metadata": {},
     "output_type": "execute_result"
    }
   ],
   "source": [
    "a=567\n",
    "a=str(a)\n",
    "type(a)"
   ]
  },
  {
   "cell_type": "markdown",
   "id": "f6ff7cb7-f6e3-483f-b726-174480a3383b",
   "metadata": {},
   "source": [
    "conditional statement"
   ]
  },
  {
   "cell_type": "code",
   "execution_count": 16,
   "id": "877e676e-572e-426c-9f3c-28c43b67e58f",
   "metadata": {},
   "outputs": [
    {
     "name": "stdout",
     "output_type": "stream",
     "text": [
      "hello\n",
      "i am not a robot\n"
     ]
    }
   ],
   "source": [
    "a=34\n",
    "b=53\n",
    "if a<b:\n",
    "    print(\"hello\")\n",
    "else:\n",
    "    print(\"bye\")\n",
    "\n",
    "\n",
    "\n",
    "if a>b:\n",
    "    print(\"i am robot\")\n",
    "else:\n",
    "    print(\"i am not a robot\")"
   ]
  },
  {
   "cell_type": "markdown",
   "id": "effde8ae-a797-4a32-a54c-8562dfcb0157",
   "metadata": {},
   "source": [
    "different type of loops in python"
   ]
  },
  {
   "cell_type": "code",
   "execution_count": null,
   "id": "72ce2e10-52ef-4c3c-aefb-cfe42ee73fc8",
   "metadata": {},
   "outputs": [],
   "source": [
    "#for loop\n",
    "a=[\"shaily\",\"rouger\",[45,67,87],\"shyam\"]\n",
    "for i in a:\n",
    "    print(i)\n",
    "\n",
    "#while loop\n",
    "a=5\n",
    "while a>0:\n",
    "    print(\"hello\")\n",
    "    a-=1\n",
    "else:\n",
    "    print(\"bye\")"
   ]
  },
  {
   "cell_type": "code",
   "execution_count": null,
   "id": "08ace46a-1e8d-42f0-bf3c-69044335a9e7",
   "metadata": {},
   "outputs": [],
   "source": []
  },
  {
   "cell_type": "code",
   "execution_count": null,
   "id": "4fccc5be-d423-43f8-8375-37fb7e82966e",
   "metadata": {},
   "outputs": [],
   "source": []
  },
  {
   "cell_type": "code",
   "execution_count": null,
   "id": "21c3afa5-a892-48c7-9fbb-6a22a9a9d8a5",
   "metadata": {},
   "outputs": [],
   "source": []
  },
  {
   "cell_type": "code",
   "execution_count": null,
   "id": "25ad3861-732c-4d83-95f3-8a8e43e331f9",
   "metadata": {},
   "outputs": [],
   "source": []
  },
  {
   "cell_type": "code",
   "execution_count": null,
   "id": "223dabd0-c9f4-470b-a052-a083d0bd0043",
   "metadata": {},
   "outputs": [],
   "source": []
  },
  {
   "cell_type": "code",
   "execution_count": null,
   "id": "a61aa05d-7da9-4a8c-a435-af0aebe2bcf0",
   "metadata": {},
   "outputs": [],
   "source": []
  },
  {
   "cell_type": "code",
   "execution_count": null,
   "id": "cbf2cdff-1f3a-40ee-9339-3095cbfda717",
   "metadata": {},
   "outputs": [],
   "source": []
  },
  {
   "cell_type": "code",
   "execution_count": null,
   "id": "a147050a-98cd-4024-8d39-4778eb5cbc31",
   "metadata": {},
   "outputs": [],
   "source": []
  },
  {
   "cell_type": "code",
   "execution_count": null,
   "id": "3a36d1f2-ae36-4620-a7f2-65c0e40e0b7b",
   "metadata": {},
   "outputs": [],
   "source": []
  }
 ],
 "metadata": {
  "kernelspec": {
   "display_name": "Python 3 (ipykernel)",
   "language": "python",
   "name": "python3"
  },
  "language_info": {
   "codemirror_mode": {
    "name": "ipython",
    "version": 3
   },
   "file_extension": ".py",
   "mimetype": "text/x-python",
   "name": "python",
   "nbconvert_exporter": "python",
   "pygments_lexer": "ipython3",
   "version": "3.12.3"
  }
 },
 "nbformat": 4,
 "nbformat_minor": 5
}
